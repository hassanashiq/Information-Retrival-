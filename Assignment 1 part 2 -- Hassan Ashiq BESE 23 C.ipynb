{
 "cells": [
  {
   "cell_type": "markdown",
   "metadata": {},
   "source": [
    "# Information Retrival :  Assignment 1 Part 2\n",
    "- ### Submitted to Ma'am Naima\n",
    "- #### Submitted by : Hassan Ashiq BESE 23 C\n",
    "- ###### Link to my GitHub Repository : <a href=\"https://github.com/hassanashiqasse/PCA\">Click Here</a>\n"
   ]
  },
  {
   "cell_type": "code",
   "execution_count": null,
   "metadata": {},
   "outputs": [],
   "source": [
    "import os\n",
    "import cv2\n",
    "from PIL import Image\n",
    "from numpy import asarray\n",
    "from matplotlib.pyplot import imread\n",
    "import matplotlib.pyplot as plt\n",
    "import numpy as np\n",
    "import pandas as pd\n",
    "from skimage import io,transform\n",
    "from numpy import linalg as LA\n",
    "import matplotlib.image as mpimg"
   ]
  },
  {
   "cell_type": "markdown",
   "metadata": {},
   "source": [
    "### Reading all pictures from the folder to dirList"
   ]
  },
  {
   "cell_type": "code",
   "execution_count": null,
   "metadata": {
    "scrolled": true
   },
   "outputs": [],
   "source": [
    "dirList=[]\n",
    "for root,dirs,files in os.walk('C:\\\\Users\\\\Evil\\\\lfw'):\n",
    "    for f in files:\n",
    "        dirList.append(os.path.join(root, f))\n",
    "\n"
   ]
  },
  {
   "cell_type": "markdown",
   "metadata": {},
   "source": [
    "## since all images were not in '32' dimension, so converting 5000 images from dirList to desired dimension"
   ]
  },
  {
   "cell_type": "code",
   "execution_count": null,
   "metadata": {
    "scrolled": true
   },
   "outputs": [],
   "source": [
    "images32=[]\n",
    "for i in range(5001):\n",
    "    images=Image.open(dirList[i])\n",
    "    name=os.path.basename(str(i))\n",
    "    image_resized=images.resize((32,32), Image.NEAREST)\n",
    "    image_resized.save('C:/Users/Evil/Desktop/resized_pictures_32/pic32_' +name+'.jpg')\n",
    "\n",
    "    \n",
    "print(\"done\")\n",
    "    \n",
    "    \n",
    "    "
   ]
  },
  {
   "cell_type": "markdown",
   "metadata": {},
   "source": [
    "### Reading all 32*32 pictures from the folder to imgList"
   ]
  },
  {
   "cell_type": "code",
   "execution_count": 37,
   "metadata": {},
   "outputs": [
    {
     "name": "stdout",
     "output_type": "stream",
     "text": [
      "['C:\\\\Users\\\\Evil\\\\resized_pictures_32\\\\pic32_0.jpg', 'C:\\\\Users\\\\Evil\\\\resized_pictures_32\\\\pic32_1.jpg', 'C:\\\\Users\\\\Evil\\\\resized_pictures_32\\\\pic32_10.jpg']\n"
     ]
    }
   ],
   "source": [
    "imgList=[]\n",
    "for root,dirs,files in os.walk('C:\\\\Users\\\\Evil\\\\resized_pictures_32'):\n",
    "    for f in files:\n",
    "        imgList.append(os.path.join(root, f))\n",
    "\n",
    "            \n",
    "print(imgList[0:3], sep = \"\\n\")    "
   ]
  },
  {
   "cell_type": "markdown",
   "metadata": {},
   "source": [
    "## Reading collection of 32 x 32 images"
   ]
  },
  {
   "cell_type": "code",
   "execution_count": 38,
   "metadata": {},
   "outputs": [],
   "source": [
    "imList=(io.imread_collection(imgList))"
   ]
  },
  {
   "cell_type": "code",
   "execution_count": 39,
   "metadata": {},
   "outputs": [
    {
     "data": {
      "text/plain": [
       "<skimage.io.collection.ImageCollection at 0x2810ca83c08>"
      ]
     },
     "execution_count": 39,
     "metadata": {},
     "output_type": "execute_result"
    }
   ],
   "source": [
    "imList"
   ]
  },
  {
   "cell_type": "markdown",
   "metadata": {},
   "source": [
    "## Making a Matrix where we will store RGB values for each image"
   ]
  },
  {
   "cell_type": "code",
   "execution_count": 40,
   "metadata": {},
   "outputs": [
    {
     "data": {
      "text/plain": [
       "array([[0.        , 0.        , 0.        ],\n",
       "       [0.        , 0.01960784, 0.        ],\n",
       "       [0.        , 0.01960784, 0.        ],\n",
       "       ...,\n",
       "       [0.2627451 , 0.30196078, 0.25882353],\n",
       "       [0.20784314, 0.25098039, 0.19607843],\n",
       "       [0.25490196, 0.29803922, 0.24313725]])"
      ]
     },
     "execution_count": 40,
     "metadata": {},
     "output_type": "execute_result"
    }
   ],
   "source": [
    "res=np.zeros(shape=(1,3))\n",
    "for i in range(len(imList)):\n",
    "    # Using the skimage.transform function-- resize image (m x n x dim).\n",
    "    m=transform.resize(imList[i],(32,32,3))\n",
    "     # Reshape the matrix to a list of rgb values.\n",
    "    arr=m.reshape((32*32),3)\n",
    "    # concatenate the vectors for every image with the existing list.\n",
    "    res=np.concatenate((res,arr),axis=0)\n",
    "\n",
    "res\n",
    "    \n",
    "    "
   ]
  },
  {
   "cell_type": "code",
   "execution_count": 53,
   "metadata": {},
   "outputs": [],
   "source": [
    "# delete initial zeros' row\n",
    "res=np.delete(res, (0), axis=0)"
   ]
  },
  {
   "cell_type": "code",
   "execution_count": 54,
   "metadata": {},
   "outputs": [
    {
     "name": "stdout",
     "output_type": "stream",
     "text": [
      "[[0.         0.01960784 0.        ]\n",
      " [0.00784314 0.01568627 0.        ]\n",
      " [0.01176471 0.01960784 0.00784314]\n",
      " ...\n",
      " [0.2627451  0.30196078 0.25882353]\n",
      " [0.20784314 0.25098039 0.19607843]\n",
      " [0.25490196 0.29803922 0.24313725]]\n"
     ]
    }
   ],
   "source": [
    "# print list of vectors - 3 columns (rgb)\n",
    "print(res)"
   ]
  },
  {
   "cell_type": "markdown",
   "metadata": {},
   "source": [
    "## Taking mean of Resized images RGB Values"
   ]
  },
  {
   "cell_type": "code",
   "execution_count": 55,
   "metadata": {
    "scrolled": true
   },
   "outputs": [
    {
     "name": "stdout",
     "output_type": "stream",
     "text": [
      "[0.43852334 0.38385175 0.34623146]\n"
     ]
    }
   ],
   "source": [
    "m=res.mean(axis=0)\n",
    "print(m)"
   ]
  },
  {
   "cell_type": "markdown",
   "metadata": {},
   "source": [
    "## Taking covariance of Resized matrix"
   ]
  },
  {
   "cell_type": "code",
   "execution_count": 44,
   "metadata": {
    "scrolled": true
   },
   "outputs": [
    {
     "name": "stdout",
     "output_type": "stream",
     "text": [
      "[[0.08550413 0.07418357 0.06481568]\n",
      " [0.07418357 0.07414059 0.06825527]\n",
      " [0.06481568 0.06825527 0.07104992]]\n"
     ]
    }
   ],
   "source": [
    "#taking covariance\n",
    "\n",
    "cov_res= np.cov(res, rowvar=False)\n",
    "print(cov_res)"
   ]
  },
  {
   "cell_type": "markdown",
   "metadata": {},
   "source": [
    "## Getting Eigen Vectors and Values from Co-variance matrix"
   ]
  },
  {
   "cell_type": "code",
   "execution_count": 45,
   "metadata": {},
   "outputs": [
    {
     "name": "stdout",
     "output_type": "stream",
     "text": [
      "Eigen Values are :  [0.00210324 0.0131756  0.2154158 ]\n",
      "\n",
      "Eigen Vectors are : \n",
      " [[ 0.36108952 -0.71052036 -0.60396621]\n",
      " [-0.80987365  0.08213955 -0.58082507]\n",
      " [ 0.46229755  0.69886616 -0.54577199]]\n"
     ]
    }
   ],
   "source": [
    "#getting eigen vectors and values\n",
    "\n",
    "e_values, e_vectors=LA.eigh(cov_res)\n",
    "print('Eigen Values are : ' ,e_values)\n",
    "print('\\nEigen Vectors are : \\n',e_vectors)\n",
    "\n"
   ]
  },
  {
   "cell_type": "markdown",
   "metadata": {},
   "source": [
    "## sorting eigen values and vectors in descending order"
   ]
  },
  {
   "cell_type": "code",
   "execution_count": 46,
   "metadata": {},
   "outputs": [
    {
     "name": "stdout",
     "output_type": "stream",
     "text": [
      "** Sorted in Descending order**\n",
      "\n",
      "Eigen Values are :  [0.2154158  0.0131756  0.00210324]\n",
      "\n",
      "Eigen Vectors are : \n",
      " [[-0.60396621 -0.71052036  0.36108952]\n",
      " [-0.58082507  0.08213955 -0.80987365]\n",
      " [-0.54577199  0.69886616  0.46229755]]\n"
     ]
    }
   ],
   "source": [
    "#Sorting eignen values and eigen vectors in descending order\n",
    "\n",
    "idx = np.argsort(e_values)[::-1]\n",
    "e_vectors = e_vectors[:,idx]\n",
    "e_values=e_values[idx]\n",
    "\n",
    "print(\"** Sorted in Descending order**\\n\")\n",
    "print('Eigen Values are : ' ,e_values)\n",
    "print('\\nEigen Vectors are : \\n',e_vectors)"
   ]
  },
  {
   "cell_type": "markdown",
   "metadata": {},
   "source": [
    "## We will select best 3 eigen vectors as 3 is our desired dimension"
   ]
  },
  {
   "cell_type": "code",
   "execution_count": 47,
   "metadata": {},
   "outputs": [
    {
     "name": "stdout",
     "output_type": "stream",
     "text": [
      "Best Vectors are : \n",
      " [[-0.60396621 -0.71052036  0.36108952]\n",
      " [-0.58082507  0.08213955 -0.80987365]\n",
      " [-0.54577199  0.69886616  0.46229755]]\n"
     ]
    }
   ],
   "source": [
    "best_3_e_vectors = e_vectors[:, :3]\n",
    "print('Best Vectors are : \\n',best_3_e_vectors)"
   ]
  },
  {
   "cell_type": "markdown",
   "metadata": {},
   "source": [
    "## make a matrix with the three eigenvectors as its columns."
   ]
  },
  {
   "cell_type": "code",
   "execution_count": 48,
   "metadata": {},
   "outputs": [
    {
     "name": "stdout",
     "output_type": "stream",
     "text": [
      "Eigen Vectors Matrix = \n",
      " [[-0.60396621 -0.58082507 -0.54577199]\n",
      " [-0.71052036  0.08213955  0.69886616]\n",
      " [ 0.36108952 -0.80987365  0.46229755]]\n"
     ]
    }
   ],
   "source": [
    "e_vectors_mat = np.column_stack((best_3_e_vectors))\n",
    "print('Eigen Vectors Matrix = \\n', e_vectors_mat)"
   ]
  },
  {
   "cell_type": "markdown",
   "metadata": {},
   "source": [
    "## carrying out the transformation on the data using eigenvectors and return the re-scaled data, eigenvalues, and eigenvectors"
   ]
  },
  {
   "cell_type": "code",
   "execution_count": 49,
   "metadata": {
    "scrolled": true
   },
   "outputs": [
    {
     "name": "stdout",
     "output_type": "stream",
     "text": [
      "[[-0.01138873  0.00161058 -0.01587988]\n",
      " [-0.01138873  0.00161058 -0.01587988]\n",
      " [-0.01384797 -0.00428425 -0.00987183]\n",
      " ...\n",
      " [-0.47533419  0.01900019 -0.0300221 ]\n",
      " [-0.37832005  0.00997122 -0.03756585]\n",
      " [-0.45975832  0.01328818 -0.03692992]]\n"
     ]
    }
   ],
   "source": [
    "rescaled_data = np.dot(best_3_e_vectors.T, res.T).T\n",
    "print(rescaled_data)"
   ]
  },
  {
   "cell_type": "markdown",
   "metadata": {},
   "source": [
    "## Funtion for rendering back images. Rescalling data from 0-255 to 0-1"
   ]
  },
  {
   "cell_type": "code",
   "execution_count": 50,
   "metadata": {
    "scrolled": true
   },
   "outputs": [],
   "source": [
    "img = imList[0]/255.0\n",
    "\n",
    "def data_aug(img = img):\n",
    "    mu = 0\n",
    "    sigma = 0.1\n",
    "    feature_vec=np.matrix(e_vectors_mat)\n",
    "\n",
    "    # 3 x 1 scaled eigenvalue matrix\n",
    "    se = np.zeros((3,1))\n",
    "    se[0][0] = np.random.normal(mu, sigma)*e_values[0]\n",
    "    se[1][0] = np.random.normal(mu, sigma)*e_values[1]\n",
    "    se[2][0] = np.random.normal(mu, sigma)*e_values[2]\n",
    "    se = np.matrix(se)\n",
    "    val = feature_vec*se\n",
    "\n",
    "    # Parse through every pixel value.\n",
    "    for i in range(img.shape[0]):\n",
    "        for j in range(img.shape[1]):\n",
    "        # Parse through every dimension.\n",
    "            for k in range(img.shape[2]):\n",
    "                img[i,j,k] = float(img[i,j,k]) + float(val[k])\n",
    "\n",
    "\n"
   ]
  },
  {
   "cell_type": "markdown",
   "metadata": {},
   "source": [
    "## After PCA. First 3 images."
   ]
  },
  {
   "cell_type": "code",
   "execution_count": 51,
   "metadata": {},
   "outputs": [
    {
     "name": "stderr",
     "output_type": "stream",
     "text": [
      "Clipping input data to the valid range for imshow with RGB data ([0..1] for floats or [0..255] for integers).\n",
      "Clipping input data to the valid range for imshow with RGB data ([0..1] for floats or [0..255] for integers).\n",
      "Clipping input data to the valid range for imshow with RGB data ([0..1] for floats or [0..255] for integers).\n"
     ]
    },
    {
     "data": {
      "image/png": "[encoded data removed]",
      "text/plain": [
       "<Figure size 432x288 with 1 Axes>"
      ]
     },
     "metadata": {
      "needs_background": "light"
     },
     "output_type": "display_data"
    },
    {
     "data": {
      "image/png": "[encoded data removed]",
      "text/plain": [
       "<Figure size 432x288 with 1 Axes>"
      ]
     },
     "metadata": {
      "needs_background": "light"
     },
     "output_type": "display_data"
    },
    {
     "data": {
      "image/png": "[encoded data removed]",
      "text/plain": [
       "<Figure size 432x288 with 1 Axes>"
      ]
     },
     "metadata": {
      "needs_background": "light"
     },
     "output_type": "display_data"
    }
   ],
   "source": [
    "for i in range(3):\n",
    "    imgs=imList[i]/255.0\n",
    "    data_aug(imgs)\n",
    "    plt.figure()\n",
    "    plt.imshow(imgs)"
   ]
  },
  {
   "cell_type": "markdown",
   "metadata": {},
   "source": [
    "## Before PCA, first 3 Images"
   ]
  },
  {
   "cell_type": "code",
   "execution_count": 52,
   "metadata": {},
   "outputs": [
    {
     "data": {
      "image/png": "[encoded data removed]",
      "text/plain": [
       "<Figure size 432x288 with 1 Axes>"
      ]
     },
     "metadata": {
      "needs_background": "light"
     },
     "output_type": "display_data"
    },
    {
     "data": {
      "image/png": "[encoded data removed]",
      "text/plain": [
       "<Figure size 432x288 with 1 Axes>"
      ]
     },
     "metadata": {
      "needs_background": "light"
     },
     "output_type": "display_data"
    },
    {
     "data": {
      "image/png": "[encoded data removed]",
      "text/plain": [
       "<Figure size 432x288 with 1 Axes>"
      ]
     },
     "metadata": {
      "needs_background": "light"
     },
     "output_type": "display_data"
    }
   ],
   "source": [
    "#original 32 x 32 image\n",
    "for i in range(3):\n",
    "    image = mpimg.imread(imgList[i])\n",
    "    plt.figure()\n",
    "    plt.imshow(image)"
   ]
  },
  {
   "cell_type": "markdown",
   "metadata": {},
   "source": [
    "# Part 1 of Assignment 2 Ends Here\n",
    "## Information Retrieval \n",
    "- ### Submitted to Ma'am Naima\n",
    "- #### Submitted by : Hassan Ashiq BESE 23 C\n",
    "- ###### Link to my GitHub Repository <a href=\"https://github.com/hassanashiqasse/PCA\">Click Here</a>"
   ]
  }
 ],
 "metadata": {
  "kernelspec": {
   "display_name": "Python 3",
   "language": "python",
   "name": "python3"
  },
  "language_info": {
   "codemirror_mode": {
    "name": "ipython",
    "version": 3
   },
   "file_extension": ".py",
   "mimetype": "text/x-python",
   "name": "python",
   "nbconvert_exporter": "python",
   "pygments_lexer": "ipython3",
   "version": "3.7.4"
  }
 },
 "nbformat": 4,
 "nbformat_minor": 2
}
